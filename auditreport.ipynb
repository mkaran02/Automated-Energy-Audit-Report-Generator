{
  "nbformat": 4,
  "nbformat_minor": 0,
  "metadata": {
    "colab": {
      "provenance": [],
      "authorship_tag": "ABX9TyPFEn2wE3AKUXxy/g43eMhu",
      "include_colab_link": true
    },
    "kernelspec": {
      "name": "python3",
      "display_name": "Python 3"
    },
    "language_info": {
      "name": "python"
    }
  },
  "cells": [
    {
      "cell_type": "markdown",
      "metadata": {
        "id": "view-in-github",
        "colab_type": "text"
      },
      "source": [
        "<a href=\"https://colab.research.google.com/github/mkaran02/Automated-Energy-Audit-Report-Generator/blob/main/auditreport.ipynb\" target=\"_parent\"><img src=\"https://colab.research.google.com/assets/colab-badge.svg\" alt=\"Open In Colab\"/></a>"
      ]
    },
    {
      "cell_type": "code",
      "source": [
        "import pandas as pd\n",
        "import numpy as np\n",
        "import matplotlib.pyplot as plt\n",
        "import seaborn as sns\n",
        "from fpdf import FPDF\n"
      ],
      "metadata": {
        "id": "ZzjBLRRKIuOS"
      },
      "execution_count": 31,
      "outputs": []
    },
    {
      "cell_type": "code",
      "source": [
        "import pandas as pd\n",
        "\n",
        "def load_energy_data(file_path=\"/content/AEP_hourly.csv\"):\n",
        "    df = pd.read_csv(file_path)  # Change to pd.read_excel(file_path) for Excel files\n",
        "    df[\"Datetime\"] = pd.to_datetime(df[\"Datetime\"])\n",
        "    df = df.set_index(\"Datetime\")\n",
        "\n",
        "    # Rename consumption column if needed\n",
        "    if \"AEP_MW\" not in df.columns:\n",
        "        df.rename(columns={df.columns[1]: \"AEP_MW\"}, inplace=True)\n",
        "\n",
        "    return df\n",
        "\n",
        "# Example usage\n",
        "df = load_energy_data()\n",
        "print(df.head())\n"
      ],
      "metadata": {
        "colab": {
          "base_uri": "https://localhost:8080/"
        },
        "id": "fhGpI2xDJvmJ",
        "outputId": "c167742f-2bf7-46b5-9a6c-7fefa098c7d4"
      },
      "execution_count": 32,
      "outputs": [
        {
          "output_type": "stream",
          "name": "stdout",
          "text": [
            "                      AEP_MW\n",
            "Datetime                    \n",
            "2004-12-31 01:00:00  13478.0\n",
            "2004-12-31 02:00:00  12865.0\n",
            "2004-12-31 03:00:00  12577.0\n",
            "2004-12-31 04:00:00  12517.0\n",
            "2004-12-31 05:00:00  12670.0\n"
          ]
        }
      ]
    },
    {
      "cell_type": "code",
      "source": [
        "def analyze_energy(df):\n",
        "    report = {}\n",
        "    report[\"Total Consumption (MW)\"] = df[\"AEP_MW\"].sum()\n",
        "    report[\"Average Daily Consumption (MW)\"] = df[\"AEP_MW\"].resample(\"D\").sum().mean()\n",
        "    report[\"Peak Consumption (MW)\"] = df[\"AEP_MW\"].max()\n",
        "    report[\"Peak Time\"] = df[\"AEP_MW\"].idxmax()\n",
        "\n",
        "    return report\n",
        "\n",
        "# Analyze energy usage\n",
        "report_data = analyze_energy(df)\n",
        "print(report_data)\n"
      ],
      "metadata": {
        "colab": {
          "base_uri": "https://localhost:8080/"
        },
        "id": "9y_ZtL__KGQ7",
        "outputId": "19933b3a-1fd7-4edd-eabe-2e1288d46bb2"
      },
      "execution_count": 33,
      "outputs": [
        {
          "output_type": "stream",
          "name": "stdout",
          "text": [
            "{'Total Consumption (MW)': 1879672527.0, 'Average Daily Consumption (MW)': 371844.21899109794, 'Peak Consumption (MW)': 25695.0, 'Peak Time': Timestamp('2008-10-20 14:00:00')}\n"
          ]
        }
      ]
    },
    {
      "cell_type": "code",
      "source": [
        "def detect_anomalies(df):\n",
        "    threshold = df[\"AEP_MW\"].mean() + 2 * df[\"AEP_MW\"].std()\n",
        "    anomalies = df[df[\"AEP_MW\"] > threshold]\n",
        "    return anomalies\n",
        "\n",
        "# Detect energy spikes\n",
        "anomalies = detect_anomalies(df)\n",
        "print(anomalies)\n"
      ],
      "metadata": {
        "colab": {
          "base_uri": "https://localhost:8080/"
        },
        "id": "gsZZo8P7KnCb",
        "outputId": "38dcb048-5f43-4cf6-f808-62e9fc03d12e"
      },
      "execution_count": 34,
      "outputs": [
        {
          "output_type": "stream",
          "name": "stdout",
          "text": [
            "                      AEP_MW\n",
            "Datetime                    \n",
            "2004-12-20 07:00:00  21616.0\n",
            "2004-12-20 08:00:00  22554.0\n",
            "2004-12-20 09:00:00  22577.0\n",
            "2004-12-20 10:00:00  22321.0\n",
            "2004-12-20 11:00:00  22055.0\n",
            "...                      ...\n",
            "2018-01-03 00:00:00  20799.0\n",
            "2018-01-01 19:00:00  20925.0\n",
            "2018-01-01 20:00:00  21089.0\n",
            "2018-01-01 21:00:00  20999.0\n",
            "2018-01-01 22:00:00  20820.0\n",
            "\n",
            "[3989 rows x 1 columns]\n"
          ]
        }
      ]
    },
    {
      "cell_type": "code",
      "source": [
        "def plot_energy_trends(df):\n",
        "    # Get the last 30 days of data\n",
        "    last_date = df.index.max()  # Find the latest date in the dataset\n",
        "    last_30_days = last_date - pd.Timedelta(days=30)  # Calculate the date 30 days ago\n",
        "\n",
        "    # Filter the dataframe for the last 30 days\n",
        "    last_month = df.loc[df.index >= last_30_days]\n",
        "\n",
        "    # Check if enough data is available\n",
        "    if last_month.empty:\n",
        "        print(\"Not enough data for the last 30 days. Plotting full dataset.\")\n",
        "        last_month = df  # Fallback to full dataset\n",
        "\n",
        "    # Plot energy consumption for the last 30 days\n",
        "    plt.figure(figsize=(10,5))\n",
        "    sns.lineplot(x=last_month.index, y=last_month[\"AEP_MW\"], color=\"blue\", label=\"Last 30 Days Energy Consumption\")\n",
        "    plt.xlabel(\"Time\")\n",
        "    plt.ylabel(\"Energy (MW)\")\n",
        "    plt.title(\"Energy Consumption Trends - Last 30 Days\")\n",
        "    plt.legend()\n",
        "    plt.savefig(\"energy_trend_last_30_days.png\")\n",
        "    plt.close()\n",
        "\n",
        "# Generate the last 1-month trend chart\n",
        "plot_energy_trends(df)\n"
      ],
      "metadata": {
        "id": "9QkxjYhMKp_x"
      },
      "execution_count": 35,
      "outputs": []
    },
    {
      "cell_type": "code",
      "source": [
        "class EnergyAuditReport(FPDF):\n",
        "    def header(self):\n",
        "        self.set_font(\"Arial\", \"B\", 16)\n",
        "        self.cell(200, 10, \"Automated Energy Audit Report\", ln=True, align=\"C\")\n",
        "        self.ln(10)\n",
        "\n",
        "    def footer(self):\n",
        "        self.set_y(-15)\n",
        "        self.set_font(\"Arial\", \"I\", 10)\n",
        "        self.cell(0, 10, f\"Page {self.page_no()}\", align=\"C\")\n",
        "\n",
        "def generate_pdf(report_data, anomalies):\n",
        "    pdf = EnergyAuditReport()\n",
        "    pdf.add_page()\n",
        "\n",
        "    # Summary Section\n",
        "    pdf.set_font(\"Arial\", \"\", 12)\n",
        "    pdf.cell(200, 10, \"Energy Consumption Summary:\", ln=True)\n",
        "    for key, value in report_data.items():\n",
        "        pdf.cell(200, 10, f\"{key}: {value}\", ln=True)\n",
        "\n",
        "    # Anomalies Section\n",
        "    pdf.ln(10)\n",
        "    pdf.cell(200, 10, \"Detected Anomalies (High Consumption Periods):\", ln=True)\n",
        "    for index, row in anomalies.iterrows():\n",
        "        pdf.cell(200, 10, f\"{index}: {row['AEP_MW']} MW\", ln=True)\n",
        "\n",
        "    # Attach Trend Chart for Last 30 Days\n",
        "    pdf.ln(10)\n",
        "    pdf.cell(200, 10, \"Energy Consumption Trend (Last 30 Days):\", ln=True)\n",
        "    pdf.image(\"energy_trend_last_30_days.png\", x=30, w=150)\n",
        "\n",
        "    # Save PDF\n",
        "    pdf.output(\"energy_audit_report.pdf\")\n",
        "\n",
        "# Generate and save the report\n",
        "generate_pdf(report_data, anomalies)\n"
      ],
      "metadata": {
        "id": "hjvta6UsLiXa"
      },
      "execution_count": 36,
      "outputs": []
    },
    {
      "cell_type": "code",
      "source": [
        "if __name__ == \"__main__\":\n",
        "    file_path = \"/content/AEP_hourly.csv\"  # Update with actual file path\n",
        "\n",
        "    # Load data\n",
        "    df = load_energy_data(file_path)\n",
        "\n",
        "    # Analyze data\n",
        "    report_data = analyze_energy(df)\n",
        "    anomalies = detect_anomalies(df)\n",
        "\n",
        "    # Generate visualization\n",
        "    plot_energy_trends(df)\n",
        "\n",
        "    # Generate PDF report\n",
        "    generate_pdf(report_data, anomalies)\n",
        "\n",
        "    print(\"Energy audit report generated: energy_audit_report.pdf\")\n"
      ],
      "metadata": {
        "colab": {
          "base_uri": "https://localhost:8080/"
        },
        "id": "GUGhe9P9MA-2",
        "outputId": "9ee1b727-923e-42ab-a1f2-f8411325af2b"
      },
      "execution_count": 37,
      "outputs": [
        {
          "output_type": "stream",
          "name": "stdout",
          "text": [
            "Energy audit report generated: energy_audit_report.pdf\n"
          ]
        }
      ]
    },
    {
      "cell_type": "code",
      "source": [
        "from google.colab import files\n",
        "files.download(\"energy_audit_report.pdf\")\n"
      ],
      "metadata": {
        "colab": {
          "base_uri": "https://localhost:8080/",
          "height": 17
        },
        "id": "-qDPyonfOE_A",
        "outputId": "8fd3b084-c632-46a8-92e7-9994a15e13b4"
      },
      "execution_count": 38,
      "outputs": [
        {
          "output_type": "display_data",
          "data": {
            "text/plain": [
              "<IPython.core.display.Javascript object>"
            ],
            "application/javascript": [
              "\n",
              "    async function download(id, filename, size) {\n",
              "      if (!google.colab.kernel.accessAllowed) {\n",
              "        return;\n",
              "      }\n",
              "      const div = document.createElement('div');\n",
              "      const label = document.createElement('label');\n",
              "      label.textContent = `Downloading \"${filename}\": `;\n",
              "      div.appendChild(label);\n",
              "      const progress = document.createElement('progress');\n",
              "      progress.max = size;\n",
              "      div.appendChild(progress);\n",
              "      document.body.appendChild(div);\n",
              "\n",
              "      const buffers = [];\n",
              "      let downloaded = 0;\n",
              "\n",
              "      const channel = await google.colab.kernel.comms.open(id);\n",
              "      // Send a message to notify the kernel that we're ready.\n",
              "      channel.send({})\n",
              "\n",
              "      for await (const message of channel.messages) {\n",
              "        // Send a message to notify the kernel that we're ready.\n",
              "        channel.send({})\n",
              "        if (message.buffers) {\n",
              "          for (const buffer of message.buffers) {\n",
              "            buffers.push(buffer);\n",
              "            downloaded += buffer.byteLength;\n",
              "            progress.value = downloaded;\n",
              "          }\n",
              "        }\n",
              "      }\n",
              "      const blob = new Blob(buffers, {type: 'application/binary'});\n",
              "      const a = document.createElement('a');\n",
              "      a.href = window.URL.createObjectURL(blob);\n",
              "      a.download = filename;\n",
              "      div.appendChild(a);\n",
              "      a.click();\n",
              "      div.remove();\n",
              "    }\n",
              "  "
            ]
          },
          "metadata": {}
        },
        {
          "output_type": "display_data",
          "data": {
            "text/plain": [
              "<IPython.core.display.Javascript object>"
            ],
            "application/javascript": [
              "download(\"download_e15b9c9e-6697-4620-b363-7489e73eae1e\", \"energy_audit_report.pdf\", 178969)"
            ]
          },
          "metadata": {}
        }
      ]
    }
  ]
}